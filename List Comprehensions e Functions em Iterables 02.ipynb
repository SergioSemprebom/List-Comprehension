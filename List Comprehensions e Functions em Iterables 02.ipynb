{
 "cells": [
  {
   "cell_type": "markdown",
   "metadata": {},
   "source": [
    "# Um exemplo prático de List Comprehension\n",
    "\n",
    "### O que faríamos se quisermos ordenar 2 listas \"relacionadas\""
   ]
  },
  {
   "cell_type": "code",
   "execution_count": null,
   "metadata": {},
   "outputs": [
    {
     "name": "stdout",
     "output_type": "stream",
     "text": [
      "[2100, 1950, 1500, 150]\n",
      "['vinho', 'microondas', 'iphone', 'cafeiteira']\n"
     ]
    }
   ],
   "source": [
    "\n",
    "# Ordenou as duas listas ficando bagunçadas\n",
    "\n",
    "vendas_produtos = [1500, 150, 2100, 1950]\n",
    "produtos = ['vinho', 'cafeiteira', 'microondas', 'iphone']\n",
    "\n",
    "vendas_produtos.sort(reverse=True)\n",
    "print(vendas_produtos)\n",
    "\n",
    "produtos.sort(reverse=True)\n",
    "print(produtos)"
   ]
  },
  {
   "cell_type": "code",
   "execution_count": 21,
   "metadata": {},
   "outputs": [
    {
     "name": "stdout",
     "output_type": "stream",
     "text": [
      "[(2100, 'microondas'), (1950, 'iphone'), (1500, 'vinho'), (150, 'cafeiteira')]\n"
     ]
    }
   ],
   "source": [
    "# Criamos uma lista auziliar para manter a ordem de vendas e produtos adicionado um list+zip\n",
    "\n",
    "\n",
    "vendas_produtos = [1500, 150, 2100, 1950]\n",
    "produtos = ['vinho', 'cafeiteira', 'microondas', 'iphone']\n",
    "\n",
    "lista_aux = list(zip(vendas_produtos, produtos))\n",
    "lista_aux.sort(reverse=True)\n",
    "print(lista_aux)"
   ]
  },
  {
   "cell_type": "code",
   "execution_count": 24,
   "metadata": {},
   "outputs": [
    {
     "name": "stdout",
     "output_type": "stream",
     "text": [
      "['microondas', 'iphone', 'vinho', 'cafeiteira']\n"
     ]
    }
   ],
   "source": [
    "# fazendo UNPACKING para separar as listas novamente\n",
    "\n",
    "produtos = [produto for vendas, produto in lista_aux]\n",
    "print(produtos)"
   ]
  },
  {
   "cell_type": "code",
   "execution_count": null,
   "metadata": {},
   "outputs": [
    {
     "name": "stdout",
     "output_type": "stream",
     "text": [
      "['microondas', 'iphone', 'vinho', 'cafeiteira']\n"
     ]
    }
   ],
   "source": [
    "# Temos uma lista de vendas e produtos ordenados do\n",
    "vendas_produtos = [1500, 150, 2100, 1950]\n",
    "produtos = ['vinho', 'cafeiteira', 'microondas', 'iphone']\n",
    "\n",
    "lista_aux = list(zip(vendas_produtos, produtos))\n",
    "lista_aux.sort(reverse=True)\n",
    "produtos = [produto for vendas, produto in lista_aux]\n",
    "print(produtos)"
   ]
  }
 ],
 "metadata": {
  "kernelspec": {
   "display_name": "Python 3 (ipykernel)",
   "language": "python",
   "name": "python3"
  },
  "language_info": {
   "codemirror_mode": {
    "name": "ipython",
    "version": 3
   },
   "file_extension": ".py",
   "mimetype": "text/x-python",
   "name": "python",
   "nbconvert_exporter": "python",
   "pygments_lexer": "ipython3",
   "version": "3.11.4"
  }
 },
 "nbformat": 4,
 "nbformat_minor": 4
}
